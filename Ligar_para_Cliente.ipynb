{
  "nbformat": 4,
  "nbformat_minor": 0,
  "metadata": {
    "colab": {
      "name": "Ligar_para_Cliente.ipynb",
      "provenance": [],
      "authorship_tag": "ABX9TyMluSfwtAT3ibKI7odcNeiX",
      "include_colab_link": true
    },
    "kernelspec": {
      "name": "python3",
      "display_name": "Python 3"
    }
  },
  "cells": [
    {
      "cell_type": "markdown",
      "metadata": {
        "id": "view-in-github",
        "colab_type": "text"
      },
      "source": [
        "<a href=\"https://colab.research.google.com/github/fernanda993/AboutMe/blob/master/Ligar_para_Cliente.ipynb\" target=\"_parent\"><img src=\"https://colab.research.google.com/assets/colab-badge.svg\" alt=\"Open In Colab\"/></a>"
      ]
    },
    {
      "cell_type": "markdown",
      "metadata": {
        "id": "lbOd_kfITqDW"
      },
      "source": [
        "# Analise de dados \n",
        "  ## Os dados deverão responder os questionamentos abaixo\n",
        "    Qual o melhor hotario para ligar pro cliente\n",
        "\n",
        "*   Manhã\n",
        "*   Tarde\n",
        "*   Noite\n",
        "\n",
        "\n",
        "    ### Tem diferença quando se trata de homem ou mulher\n",
        "    ### As ligações devem ser feitas dia de semana ou final de semana"
      ]
    },
    {
      "cell_type": "code",
      "metadata": {
        "id": "dvVY_oqUTikX"
      },
      "source": [
        "import pandas as pd"
      ],
      "execution_count": 2,
      "outputs": []
    },
    {
      "cell_type": "code",
      "metadata": {
        "id": "dIg_29ggTn2L"
      },
      "source": [
        ""
      ],
      "execution_count": null,
      "outputs": []
    }
  ]
}